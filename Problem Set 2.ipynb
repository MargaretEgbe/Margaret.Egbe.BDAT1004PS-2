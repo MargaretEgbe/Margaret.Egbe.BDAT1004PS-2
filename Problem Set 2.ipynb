{
 "cells": [
  {
   "cell_type": "markdown",
   "id": "525c21b7",
   "metadata": {},
   "source": [
    "# Question 1\n",
    "Consider the following Python module:\n",
    "a = 0\n",
    "def b():\n",
    " global a\n",
    " a = c(a)\n",
    "def c(a):\n",
    " return a + 2\n",
    "After importing the module into the interpreter, you execute:\n",
    ">>> b()\n",
    ">>> b()\n",
    ">>> b()\n",
    ">>> a\n",
    "?\n",
    "What value is displayed when the last expression (a) is evaluated? Explain your\n",
    "answer by indicating what happens in every executed statement."
   ]
  },
  {
   "cell_type": "markdown",
   "id": "dfb532c3",
   "metadata": {},
   "source": [
    "\n",
    "a = 0           # a is global and equal to 0\n",
    "def b():        # Function b is defined\n",
    " global a       # Declares that 'a' is the global variable 'a'\n",
    " a = c(a)       # Calls function c() with the current value of 'a', and updates 'a' with the returned value\n",
    "def c(a):       # Function c is defined with argument 'a'\n",
    " return a + 2   # Returns 'a' incremented by 2\n",
    "\n",
    "Explanation of execution:\n",
    "\n",
    "b() is called, a is 0, so c(0) returns 0 + 2 = 2, updating a to 2.\n",
    "b() is called again, a is now 2, so c(2) returns 2 + 2 = 4, updating a to 4.\n",
    "b() is called once more, a is now 4, so c(4) returns 4 + 2 = 6, updating a to 6.\n",
    "\n",
    "After these function calls, the value of a is 6. Therefore, when the last expression a is evaluated, it will display the value of 6."
   ]
  },
  {
   "cell_type": "markdown",
   "id": "14e7b5f8",
   "metadata": {},
   "source": [
    "# Question 2\n",
    "Function fileLength(), given to you, takes the name of a file as input and returns\n",
    "the length of the file:\n",
    ">>> fileLength('midterm.py')\n",
    "284\n",
    ">>> fileLength('idterm.py')\n",
    "Traceback (most recent call last):\n",
    "File \"<pyshell#34>\", line 1, in <module>\n",
    " fileLength('idterm.py')\n",
    "File \"/Users/me/midterm.py\", line 3, in fileLength\n",
    " infile = open(filename)\n",
    "FileNotFoundError: [Errno 2] No such file or directory:\n",
    "'idterm.py'\n",
    "\n",
    "    As shown above, if the file cannot be found by the interpreter or if it cannot be read\n",
    "as a text file, an exception will be raised. Modify function fileLength() so that a\n",
    "friendly message is printed instead:\n",
    ">>> fileLength('midterm.py')\n",
    "358\n",
    ">>> fileLength('idterm.py')\n",
    "File idterm.py not found."
   ]
  },
  {
   "cell_type": "code",
   "execution_count": 4,
   "id": "c9239d64",
   "metadata": {},
   "outputs": [
    {
     "name": "stdout",
     "output_type": "stream",
     "text": [
      "File midterm.py not found.\n",
      "File idterm.py not found.\n"
     ]
    }
   ],
   "source": [
    "def fileLength(filename):\n",
    "    # defines the function fileLength that takes the name of a file as inout and returns the length of the file\n",
    "    try:\n",
    "        infile = open(filename)\n",
    "        content = infile.read()\n",
    "        infile.close()\n",
    "        return len(content)\n",
    "    except FileNotFoundError:\n",
    "        # executed only if the FileNotFoundError is raised\n",
    "        print(f\"File {filename} not found.\")\n",
    "\n",
    "# below will test the function\n",
    "fileLength('midterm.py')\n",
    "fileLength('idterm.py')"
   ]
  },
  {
   "cell_type": "markdown",
   "id": "830da011",
   "metadata": {},
   "source": [
    "# Question 3\n",
    "\n",
    "Write a class named Marsupial that can be used as shown below:\n",
    ">>> m = Marsupial()\n",
    ">>> m.put_in_pouch('doll')\n",
    ">>> m.put_in_pouch('firetruck')\n",
    ">>> m.put_in_pouch('kitten')\n",
    ">>> m.pouch_contents()\n",
    "['doll', 'firetruck', 'kitten']\n",
    "Now write a class named Kangaroo as a subclass of Marsupial that inherits all the\n",
    "attributes of Marsupial and also:\n",
    "a. extends the Marsupial __init__ constructor to take, as input, the\n",
    "coordinates x and y of the Kangaroo object,\n",
    "b. supports method jump that takes number values dx and dy as input and\n",
    "moves the kangaroo by dx units along the x-axis and by dy units along the yaxis, and\n",
    "c. overloads the __str__ operator so it behaves as shown below.\n",
    ">>> k = Kangaroo(0,0)\n",
    ">>> print(k)\n",
    "I am a Kangaroo located at coordinates (0,0)\n",
    ">>> k.put_in_pouch('doll')\n",
    ">>> k.put_in_pouch('firetruck')\n",
    ">>> k.put_in_pouch('kitten')\n",
    ">>> k.pouch_contents()\n",
    "['doll', 'firetruck', 'kitten']\n",
    ">>> k.jump(1,0)\n",
    ">>> k.jump(1,0)\n",
    ">>> k.jump(1,0)\n",
    ">>> print(k)\n",
    "I am a Kangaroo located at coordinates (3,0)"
   ]
  },
  {
   "cell_type": "code",
   "execution_count": 5,
   "id": "a0f74f70",
   "metadata": {},
   "outputs": [
    {
     "name": "stdout",
     "output_type": "stream",
     "text": [
      "['doll', 'firetruck', 'kitten']\n",
      "I am a Kangaroo located at coordinates (0,0)\n",
      "['doll', 'firetruck', 'kitten']\n",
      "I am a Kangaroo located at coordinates (3,0)\n"
     ]
    }
   ],
   "source": [
    "class Marsupial:\n",
    "    def __init__(self):\n",
    "        self.pouch = []\n",
    "\n",
    "    def put_in_pouch(self, item):\n",
    "        self.pouch.append(item)\n",
    "\n",
    "    def pouch_contents(self):\n",
    "        return self.pouch\n",
    "\n",
    "\n",
    "class Kangaroo(Marsupial):\n",
    "    def __init__(self, x=0, y=0):\n",
    "        super().__init__()\n",
    "        self.x = x\n",
    "        self.y = y\n",
    "\n",
    "    def jump(self, dx, dy):\n",
    "        self.x += dx\n",
    "        self.y += dy\n",
    "\n",
    "    def __str__(self):\n",
    "        return f\"I am a Kangaroo located at coordinates ({self.x},{self.y})\"\n",
    "\n",
    "\n",
    "# Test the classes\n",
    "m = Marsupial()\n",
    "m.put_in_pouch('doll')\n",
    "m.put_in_pouch('firetruck')\n",
    "m.put_in_pouch('kitten')\n",
    "print(m.pouch_contents())\n",
    "\n",
    "k = Kangaroo(0, 0)\n",
    "print(k)\n",
    "k.put_in_pouch('doll')\n",
    "k.put_in_pouch('firetruck')\n",
    "k.put_in_pouch('kitten')\n",
    "print(k.pouch_contents())\n",
    "\n",
    "k.jump(1, 0)\n",
    "k.jump(1, 0)\n",
    "k.jump(1, 0)\n",
    "print(k)"
   ]
  },
  {
   "cell_type": "markdown",
   "id": "c66277a5",
   "metadata": {},
   "source": [
    "# Question 4\n",
    "\n",
    "Write function collatz() that takes a positive integer x as input and prints the\n",
    "Collatz sequence starting at x. A Collatz sequence is obtained by repeatedly applying\n",
    "this rule to the previous number x in the sequence:\n",
    "x = {\n",
    "𝑥/2 𝑖𝑓 𝑥 𝑖𝑠 𝑒𝑣𝑒𝑛\n",
    "3𝑥 + 1 𝑖𝑓 𝑥 𝑖𝑠 𝑜𝑑𝑑\n",
    "Your function should stop when the sequence gets to number 1. Your\n",
    "implementation must be recursive, without any loops.\n",
    ">>> collatz(1)\n",
    "1\n",
    ">>> collatz(10)\n",
    "10\n",
    "5\n",
    "16\n",
    "8\n",
    "4\n",
    "2\n",
    "1\n"
   ]
  },
  {
   "cell_type": "code",
   "execution_count": 6,
   "id": "760052c3",
   "metadata": {},
   "outputs": [
    {
     "name": "stdout",
     "output_type": "stream",
     "text": [
      "1\n",
      "\n",
      "10\n",
      "5\n",
      "16\n",
      "8\n",
      "4\n",
      "2\n",
      "1\n"
     ]
    }
   ],
   "source": [
    "def collatz(x):\n",
    "    # Print the current number in the sequence\n",
    "    print(x)\n",
    "    \n",
    "    # Base case: if x is 1, stop the sequence\n",
    "    if x == 1:\n",
    "        return\n",
    "    \n",
    "    # If x is even, divide it by 2 and continue the sequence\n",
    "    elif x % 2 == 0:  \n",
    "        collatz(x // 2)\n",
    "    \n",
    "    # If x is odd, multiply it by 3, add 1, and continue the sequence\n",
    "    else:  \n",
    "        collatz(3 * x + 1)\n",
    "\n",
    "# Test the function\n",
    "collatz(1)\n",
    "print()\n",
    "collatz(10)"
   ]
  },
  {
   "cell_type": "markdown",
   "id": "8d8f0f2a",
   "metadata": {},
   "source": [
    "# Question 5 \n",
    "\n",
    "Write a recursive method binary() that takes a non-negative\n",
    "integer n and prints the binary representation of integer n.\n",
    ">>> binary(0)\n",
    "0\n",
    ">>> binary(1)\n",
    "1\n",
    ">>> binary(3)\n",
    "11\n",
    ">>> binary(9)\n",
    "1001\n"
   ]
  },
  {
   "cell_type": "code",
   "execution_count": 7,
   "id": "f04d15b8",
   "metadata": {},
   "outputs": [
    {
     "name": "stdout",
     "output_type": "stream",
     "text": [
      "0\n",
      "1\n",
      "11\n",
      "1001"
     ]
    }
   ],
   "source": [
    "def binary(n):\n",
    "    # Base case: when n is 0, print 0\n",
    "    if n == 0:\n",
    "        print(0, end='')\n",
    "        return\n",
    "    # Base case: when n is 1, print 1\n",
    "    elif n == 1:\n",
    "        print(1, end='')\n",
    "        return\n",
    "    # Recursive case: divide n by 2 and call binary() on the quotient\n",
    "    binary(n // 2)\n",
    "    # Print the remainder of dividing n by 2 (the binary representation)\n",
    "    print(n % 2, end='')\n",
    "\n",
    "# Test the function\n",
    "binary(0)\n",
    "print()\n",
    "binary(1)\n",
    "print()\n",
    "binary(3)\n",
    "print()\n",
    "binary(9)"
   ]
  },
  {
   "cell_type": "markdown",
   "id": "348eef59",
   "metadata": {},
   "source": [
    "# Question 6\n",
    "\n",
    "Implement a class named HeadingParser that can be used to parse an HTML document, and retrieve and print all the headings in the document. You should implement your class as a subclass of HTMLParser, defined in Standard Library module html.parser. When fed a string containing HTML code, your class should print the headings, one per line and in the order in which they appear in the document. Each heading should be indented as follows: an h1 heading should have indentation 0, and h2 heading should have indentation 1, etc. Test your implementation using w3c.html.\n",
    "\n",
    ">>> infile = open('w3c.html')\n",
    ">>> content = infile.read()\n",
    ">>> infile.close()\n",
    ">>> hp = HeadingParser()\n",
    ">>> hp.feed(content)\n",
    "W3C Mission\n",
    "Principles\n"
   ]
  },
  {
   "cell_type": "code",
   "execution_count": 11,
   "id": "8a45a3e3",
   "metadata": {},
   "outputs": [
    {
     "name": "stdout",
     "output_type": "stream",
     "text": [
      "Change_me\n",
      "W3C Mission\n",
      " Principles\n"
     ]
    }
   ],
   "source": [
    "from html.parser import HTMLParser\n",
    "\n",
    "class HeadingParser(HTMLParser):\n",
    "    def __init__(self):\n",
    "        super().__init__()\n",
    "        self.indentation = 0\n",
    "\n",
    "    def handle_starttag(self, tag, attrs):\n",
    "        # Check if the tag is a heading tag (starts with 'h') and the rest are digits\n",
    "        if tag.startswith('h') and tag[1:].isdigit():\n",
    "            # Calculate indentation based on heading level\n",
    "            self.indentation = int(tag[1:]) - 1\n",
    "\n",
    "    def handle_data(self, data):\n",
    "        # Check if data is non-empty and indentation is valid\n",
    "        if data.strip() and self.indentation >= 0:\n",
    "            # Print data with appropriate indentation\n",
    "            print(' ' * self.indentation + data)\n",
    "\n",
    "# HTML content\n",
    "html_content = \"\"\"\n",
    "<!DOCTYPE html>\n",
    "<html lang=\"en\">\n",
    "<head>\n",
    "  <meta name=\"description\" content=\"Webpage description goes here\" />\n",
    "  <meta charset=\"utf-8\">\n",
    "  <title>Change_me</title>\n",
    "  <meta name=\"viewport\" content=\"width=device-width, initial-scale=1\">\n",
    "  <meta name=\"author\" content=\"\">\n",
    "  <link rel=\"stylesheet\" href=\"css/style.css\">\n",
    "</head>\n",
    "<body>\n",
    "\t<h1>W3C Mission</h1>\n",
    "\t<h2>Principles</h2>\n",
    "</body>\n",
    "</html>\n",
    "\"\"\"\n",
    "\n",
    "# Create instance of HeadingParser and parse HTML content\n",
    "hp = HeadingParser()\n",
    "hp.feed(html_content)"
   ]
  },
  {
   "cell_type": "markdown",
   "id": "41fffcdb",
   "metadata": {},
   "source": [
    "# Question 7\n",
    "\n",
    "Implement recursive function webdir() that takes as input: a URL (as a string) and non-negative integers depth and indent. Your function should visit every web page reachable from the starting URL web page in depth clicks or less, and print each web page's URL. As shown below, indentation, specified by indent, should be used to indicate the depth of a URL.\n",
    ">>>\n",
    "webdir('http://reed.cs.depaul.edu/lperkovic/csc242/test1.html'\n",
    ", 2, 0)\n",
    "http://reed.cs.depaul.edu/lperkovic/csc242/test1.html\n",
    " http://reed.cs.depaul.edu/lperkovic/csc242/test2.html\n",
    " http://reed.cs.depaul.edu/lperkovic/csc242/test4.html\n",
    " http://reed.cs.depaul.edu/lperkovic/csc242/test3.html\n",
    " http://reed.cs.depaul.edu/lperkovic/csc242/test4.html"
   ]
  },
  {
   "cell_type": "code",
   "execution_count": 15,
   "id": "ed48fa38",
   "metadata": {},
   "outputs": [
    {
     "name": "stdout",
     "output_type": "stream",
     "text": [
      "Error: HTTP Error 404: \n"
     ]
    }
   ],
   "source": [
    "from urllib.request import urlopen\n",
    "from urllib.parse import urljoin\n",
    "from bs4 import BeautifulSoup\n",
    "from urllib.error import HTTPError\n",
    "\n",
    "def webdir(url, depth, indent):\n",
    "    try:\n",
    "        # Fetch the HTML content of the given URL\n",
    "        response = urlopen(url)\n",
    "        html = response.read()\n",
    "\n",
    "        # Parse the HTML content using BeautifulSoup\n",
    "        soup = BeautifulSoup(html, 'html.parser')\n",
    "\n",
    "        # Print the URL with appropriate indentation\n",
    "        print(' ' * indent + url)\n",
    "\n",
    "        # Base case: if depth is 0, return\n",
    "        if depth == 0:\n",
    "            return\n",
    "\n",
    "        # Recursive case: visit each link in the page and call webdir recursively\n",
    "        for link in soup.find_all('a', href=True):\n",
    "            # Construct the absolute URL of the link\n",
    "            absolute_url = urljoin(url, link['href'])\n",
    "            # Call webdir recursively with reduced depth and increased indentation\n",
    "            webdir(absolute_url, depth - 1, indent + 1)\n",
    "    except HTTPError as e:\n",
    "        # Print error message with appropriate indentation\n",
    "        print(' ' * indent + f\"Error: {e}\")\n",
    "        # Continue with the traversal by ignoring the current URL\n",
    "        return\n",
    "\n",
    "# Test the function\n",
    "webdir('http://reed.cs.depaul.edu/lperkovic/csc242/test1.html', 2, 0)"
   ]
  },
  {
   "cell_type": "markdown",
   "id": "e2c9bec6",
   "metadata": {},
   "source": [
    "# Question 8\n",
    "\n",
    "Write SQL queries on the below database table that return:\n",
    "a) All the temperature data.\n",
    "b) All the cities, but without repetition.\n",
    "c) All the records for India.\n",
    "d) All the Fall records.\n",
    "e) The city, country, and season for which the average rainfall is between 200\n",
    "and 400 millimeters.\n",
    "f) The city and country for which the average Fall temperature is above 20\n",
    "degrees, in increasing temperature order.\n",
    "g) The total annual rainfall for Cairo.\n",
    "h) The total rainfall for each season.\n",
    "\n",
    "City\t Country\t        Season\t    Temperature (C)\tRainfall (mm)\n",
    "Mumbai\t India\t            Winter\t    24.8\t        5.9\n",
    "Mumbai \t India \t            Spring    \t28.4 \t        16.2\n",
    "Mumbai   India \t            Summer \t    27.9 \t        1549.4\n",
    "Mumbai   India \t            Fall \t    27.6 \t        346.0\n",
    "London \t United Kingdom \tWinter   \t4.2 \t        207.7\n",
    "London \t United Kingdom \tSpring \t    8.3 \t        169.6\n",
    "London \t United Kingdom \tSummer \t    15.7            157.0\n",
    "London \t United Kingdom \tFall \t    10.4 \t        218.5\n",
    "Cairo    Egypt \t            Winter \t    13.6 \t        16.5\n",
    "Cairo \t Egypt \t            Spring \t    20.7 \t         6.5\n",
    "Cairo \t Egypt \t            Summer \t    27.7 \t         0.1\n",
    "Cairo \t Egypt              Fall \t    22.2 \t         4.5\n"
   ]
  },
  {
   "cell_type": "code",
   "execution_count": 19,
   "id": "7cd9bf4a",
   "metadata": {},
   "outputs": [
    {
     "name": "stdout",
     "output_type": "stream",
     "text": [
      "All the temperature data:\n",
      "24.8\n",
      "28.4\n",
      "27.9\n",
      "27.6\n",
      "4.2\n",
      "8.3\n",
      "15.7\n",
      "10.4\n",
      "13.6\n",
      "20.7\n",
      "27.7\n",
      "22.2\n",
      "24.8\n",
      "28.4\n",
      "27.9\n",
      "27.6\n",
      "4.2\n",
      "8.3\n",
      "15.7\n",
      "10.4\n",
      "13.6\n",
      "20.7\n",
      "27.7\n",
      "22.2\n",
      "\n",
      "All the cities, but without repetition:\n",
      "Mumbai\n",
      "London\n",
      "Cairo\n",
      "\n",
      "All the records for India:\n",
      "('Mumbai', 'India', 'Winter', 24.8, 5.9)\n",
      "('Mumbai', 'India', 'Spring', 28.4, 16.2)\n",
      "('Mumbai', 'India', 'Summer', 27.9, 1549.4)\n",
      "('Mumbai', 'India', 'Fall', 27.6, 346.0)\n",
      "('Mumbai', 'India', 'Winter', 24.8, 5.9)\n",
      "('Mumbai', 'India', 'Spring', 28.4, 16.2)\n",
      "('Mumbai', 'India', 'Summer', 27.9, 1549.4)\n",
      "('Mumbai', 'India', 'Fall', 27.6, 346.0)\n",
      "\n",
      "All the Fall records:\n",
      "('Mumbai', 'India', 'Fall', 27.6, 346.0)\n",
      "('London', 'United Kingdom', 'Fall', 10.4, 218.5)\n",
      "('Cairo', 'Egypt', 'Fall', 22.2, 4.5)\n",
      "('Mumbai', 'India', 'Fall', 27.6, 346.0)\n",
      "('London', 'United Kingdom', 'Fall', 10.4, 218.5)\n",
      "('Cairo', 'Egypt', 'Fall', 22.2, 4.5)\n",
      "\n",
      "The city, country, and season for which the average rainfall is between 200 and 400 millimeters:\n",
      "('London', 'United Kingdom', 'Fall')\n",
      "('London', 'United Kingdom', 'Winter')\n",
      "('Mumbai', 'India', 'Fall')\n",
      "\n",
      "The city and country for which the average Fall temperature is above 20 degrees, in increasing temperature order:\n",
      "('Cairo', 'Egypt')\n",
      "('Mumbai', 'India')\n",
      "\n",
      "The total annual rainfall for Cairo: 55.2 millimeters\n",
      "\n",
      "The total rainfall for each season:\n",
      "('Fall', 1138.0)\n",
      "('Spring', 384.59999999999997)\n",
      "('Summer', 3413.0)\n",
      "('Winter', 460.2)\n"
     ]
    }
   ],
   "source": [
    "import sqlite3  # Import the sqlite3 module to interact with SQLite database\n",
    "\n",
    "# Connect to the SQLite database or create it if it doesn't exist\n",
    "conn = sqlite3.connect('weather_data.db')\n",
    "cursor = conn.cursor()  # Create a cursor object to execute SQL commands\n",
    "\n",
    "# Create the 'weather' table if it doesn't already exist\n",
    "cursor.execute('''\n",
    "CREATE TABLE IF NOT EXISTS weather (\n",
    "    City TEXT,\n",
    "    Country TEXT,\n",
    "    Season TEXT,\n",
    "    Temperature REAL,\n",
    "    Rainfall REAL\n",
    ")\n",
    "''')\n",
    "\n",
    "# Insert data into the 'weather' table\n",
    "data = [\n",
    "    ('Mumbai', 'India', 'Winter', 24.8, 5.9),\n",
    "    ('Mumbai', 'India', 'Spring', 28.4, 16.2),\n",
    "    ('Mumbai', 'India', 'Summer', 27.9, 1549.4),\n",
    "    ('Mumbai', 'India', 'Fall', 27.6, 346.0),\n",
    "    ('London', 'United Kingdom', 'Winter', 4.2, 207.7),\n",
    "    ('London', 'United Kingdom', 'Spring', 8.3, 169.6),\n",
    "    ('London', 'United Kingdom', 'Summer', 15.7, 157.0),\n",
    "    ('London', 'United Kingdom', 'Fall', 10.4, 218.5),\n",
    "    ('Cairo', 'Egypt', 'Winter', 13.6, 16.5),\n",
    "    ('Cairo', 'Egypt', 'Spring', 20.7, 6.5),\n",
    "    ('Cairo', 'Egypt', 'Summer', 27.7, 0.1),\n",
    "    ('Cairo', 'Egypt', 'Fall', 22.2, 4.5)\n",
    "]\n",
    "cursor.executemany('INSERT INTO weather VALUES (?, ?, ?, ?, ?)', data)  # Execute the insert command\n",
    "\n",
    "# Commit changes to the database\n",
    "conn.commit()\n",
    "\n",
    "# Execute SQL queries to retrieve data from the 'weather' table\n",
    "# and print the results\n",
    "\n",
    "# a) All the temperature data.\n",
    "cursor.execute('SELECT Temperature FROM weather')\n",
    "temperature_data = cursor.fetchall()\n",
    "print(\"All the temperature data:\")\n",
    "for temp in temperature_data:\n",
    "    print(temp[0])\n",
    "\n",
    "# b) All the cities, but without repetition.\n",
    "cursor.execute('SELECT DISTINCT City FROM weather')\n",
    "cities = cursor.fetchall()\n",
    "print(\"\\nAll the cities, but without repetition:\")\n",
    "for city in cities:\n",
    "    print(city[0])\n",
    "\n",
    "# c) All the records for India.\n",
    "cursor.execute(\"SELECT * FROM weather WHERE Country = 'India'\")\n",
    "india_records = cursor.fetchall()\n",
    "print(\"\\nAll the records for India:\")\n",
    "for record in india_records:\n",
    "    print(record)\n",
    "\n",
    "# d) All the Fall records.\n",
    "cursor.execute(\"SELECT * FROM weather WHERE Season = 'Fall'\")\n",
    "fall_records = cursor.fetchall()\n",
    "print(\"\\nAll the Fall records:\")\n",
    "for record in fall_records:\n",
    "    print(record)\n",
    "\n",
    "# e) The city, country, and season for which the average rainfall is between 200 and 400 millimeters.\n",
    "cursor.execute(\"\"\"\n",
    "    SELECT City, Country, Season\n",
    "    FROM weather\n",
    "    GROUP BY City, Country, Season\n",
    "    HAVING AVG(Rainfall) BETWEEN 200 AND 400\n",
    "\"\"\")\n",
    "rainfall_records = cursor.fetchall()\n",
    "print(\"\\nThe city, country, and season for which the average rainfall is between 200 and 400 millimeters:\")\n",
    "for record in rainfall_records:\n",
    "    print(record)\n",
    "\n",
    "# f) The city and country for which the average Fall temperature is above 20 degrees, in increasing temperature order.\n",
    "cursor.execute(\"\"\"\n",
    "    SELECT City, Country\n",
    "    FROM weather\n",
    "    WHERE Season = 'Fall'\n",
    "    GROUP BY City, Country\n",
    "    HAVING AVG(Temperature) > 20\n",
    "    ORDER BY AVG(Temperature)\n",
    "\"\"\")\n",
    "temperature_above_20 = cursor.fetchall()\n",
    "print(\"\\nThe city and country for which the average Fall temperature is above 20 degrees, in increasing temperature order:\")\n",
    "for record in temperature_above_20:\n",
    "    print(record)\n",
    "\n",
    "# g) The total annual rainfall for Cairo.\n",
    "cursor.execute(\"SELECT SUM(Rainfall) FROM weather WHERE City = 'Cairo'\")\n",
    "total_rainfall_cairo = cursor.fetchone()[0]\n",
    "print(\"\\nThe total annual rainfall for Cairo:\", total_rainfall_cairo, \"millimeters\")\n",
    "\n",
    "# h) The total rainfall for each season.\n",
    "cursor.execute(\"\"\"\n",
    "    SELECT Season, SUM(Rainfall) AS TotalRainfall\n",
    "    FROM weather\n",
    "    GROUP BY Season\n",
    "\"\"\")\n",
    "total_rainfall_seasons = cursor.fetchall()\n",
    "print(\"\\nThe total rainfall for each season:\")\n",
    "for record in total_rainfall_seasons:\n",
    "    print(record)\n",
    "\n",
    "# Close the database connection\n",
    "conn.close()"
   ]
  },
  {
   "cell_type": "markdown",
   "id": "dca01a36",
   "metadata": {},
   "source": [
    "# Question 9\n",
    "\n",
    "Suppose list words is defined as follows:\n",
    ">>> words = ['The', 'quick', 'brown', 'fox', 'jumps', 'over','the', 'lazy', 'dog']\n",
    "Write list comprehension expressions that use list words and generate the following\n",
    "lists:\n",
    "a) ['THE', 'QUICK', 'BROWN', 'FOX', 'JUMPS', 'OVER', 'THE','LAZY', 'DOG']\n"
   ]
  },
  {
   "cell_type": "code",
   "execution_count": 20,
   "id": "fff4e239",
   "metadata": {},
   "outputs": [
    {
     "name": "stdout",
     "output_type": "stream",
     "text": [
      "['THE', 'QUICK', 'BROWN', 'FOX', 'JUMPS', 'OVER', 'THE', 'LAZY', 'DOG']\n"
     ]
    }
   ],
   "source": [
    "# Define the list of words\n",
    "words = ['The', 'quick', 'brown', 'fox', 'jumps', 'over', 'the', 'lazy', 'dog']\n",
    "\n",
    "# Use list comprehension to capitalize each word\n",
    "capitalized_words = [word.upper() for word in words]\n",
    "\n",
    "# Print the resulting list\n",
    "print(capitalized_words)"
   ]
  },
  {
   "cell_type": "markdown",
   "id": "9820eb2a",
   "metadata": {},
   "source": [
    "b) ['the', 'quick', 'brown', 'fox', 'jumps', 'over', 'the','lazy', 'dog']\n"
   ]
  },
  {
   "cell_type": "code",
   "execution_count": 21,
   "id": "ffcf15c7",
   "metadata": {},
   "outputs": [
    {
     "name": "stdout",
     "output_type": "stream",
     "text": [
      "['the', 'quick', 'brown', 'fox', 'jumps', 'over', 'the', 'lazy', 'dog']\n"
     ]
    }
   ],
   "source": [
    "# Define the list of words\n",
    "words = ['The', 'quick', 'brown', 'fox', 'jumps', 'over', 'the', 'lazy', 'dog']\n",
    "\n",
    "# Use list comprehension to convert each word to lowercase\n",
    "lowercase_words = [word.lower() for word in words]\n",
    "\n",
    "# Print the resulting list\n",
    "print(lowercase_words)"
   ]
  },
  {
   "cell_type": "markdown",
   "id": "57f91956",
   "metadata": {},
   "source": [
    "c) [3, 5, 5, 3, 5, 4, 3, 4, 3] (the list of lengths of words in list words).\n"
   ]
  },
  {
   "cell_type": "code",
   "execution_count": 22,
   "id": "15e03832",
   "metadata": {},
   "outputs": [
    {
     "name": "stdout",
     "output_type": "stream",
     "text": [
      "[3, 5, 5, 3, 5, 4, 3, 4, 3]\n"
     ]
    }
   ],
   "source": [
    "# Define the list of words\n",
    "words = ['The', 'quick', 'brown', 'fox', 'jumps', 'over', 'the', 'lazy', 'dog']\n",
    "\n",
    "# Use list comprehension to get the lengths of each word\n",
    "word_lengths = [len(word) for word in words]\n",
    "\n",
    "# Print the resulting list\n",
    "print(word_lengths)"
   ]
  },
  {
   "cell_type": "markdown",
   "id": "33d4af48",
   "metadata": {},
   "source": [
    "d) [['THE', 'the', 3], ['QUICK', 'quick', 5], ['BROWN','brown', 5], ['FOX', 'fox', 3], ['JUMPS', 'jumps', 5],\n",
    "['OVER', 'over', 4], ['THE', 'the', 3], ['LAZY', 'lazy',4], ['DOG', 'dog', 3]] (the list containing a list for every word of list words, where each list contains the word in uppercase and lowercase and the length of the word.)\n"
   ]
  },
  {
   "cell_type": "code",
   "execution_count": 23,
   "id": "6310d3f0",
   "metadata": {},
   "outputs": [
    {
     "name": "stdout",
     "output_type": "stream",
     "text": [
      "[['THE', 'the', 3], ['QUICK', 'quick', 5], ['BROWN', 'brown', 5], ['FOX', 'fox', 3], ['JUMPS', 'jumps', 5], ['OVER', 'over', 4], ['THE', 'the', 3], ['LAZY', 'lazy', 4], ['DOG', 'dog', 3]]\n"
     ]
    }
   ],
   "source": [
    "# Define the list of words\n",
    "words = ['The', 'quick', 'brown', 'fox', 'jumps', 'over', 'the', 'lazy', 'dog']\n",
    "\n",
    "# Use list comprehension to generate sublists for each word\n",
    "word_info = [[word.upper(), word.lower(), len(word)] for word in words]\n",
    "\n",
    "# Print the resulting list\n",
    "print(word_info)"
   ]
  },
  {
   "cell_type": "markdown",
   "id": "21b020a5",
   "metadata": {},
   "source": [
    "e) ['The', 'quick', 'brown', 'fox', 'jumps', 'over', 'the','lazy', 'dog'] (the list of words in list words containing 4 or more\n",
    "characters.)"
   ]
  },
  {
   "cell_type": "code",
   "execution_count": 24,
   "id": "827674fc",
   "metadata": {},
   "outputs": [
    {
     "name": "stdout",
     "output_type": "stream",
     "text": [
      "['quick', 'brown', 'jumps', 'over', 'lazy']\n"
     ]
    }
   ],
   "source": [
    "# Define the list of words\n",
    "words = ['The', 'quick', 'brown', 'fox', 'jumps', 'over', 'the', 'lazy', 'dog']\n",
    "\n",
    "# Use list comprehension to filter words with 4 or more characters\n",
    "long_words = [word for word in words if len(word) >= 4]\n",
    "\n",
    "# Print the resulting list\n",
    "print(long_words)"
   ]
  },
  {
   "cell_type": "code",
   "execution_count": null,
   "id": "0ce34168",
   "metadata": {},
   "outputs": [],
   "source": []
  }
 ],
 "metadata": {
  "kernelspec": {
   "display_name": "Python 3 (ipykernel)",
   "language": "python",
   "name": "python3"
  },
  "language_info": {
   "codemirror_mode": {
    "name": "ipython",
    "version": 3
   },
   "file_extension": ".py",
   "mimetype": "text/x-python",
   "name": "python",
   "nbconvert_exporter": "python",
   "pygments_lexer": "ipython3",
   "version": "3.11.5"
  }
 },
 "nbformat": 4,
 "nbformat_minor": 5
}
